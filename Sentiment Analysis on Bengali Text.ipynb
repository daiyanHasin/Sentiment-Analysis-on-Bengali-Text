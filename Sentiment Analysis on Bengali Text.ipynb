{
  "nbformat": 4,
  "nbformat_minor": 0,
  "metadata": {
    "colab": {
      "provenance": []
    },
    "kernelspec": {
      "name": "python3",
      "display_name": "Python 3"
    },
    "language_info": {
      "name": "python"
    }
  },
  "cells": [
    {
      "cell_type": "markdown",
      "source": [
        "# Assignment 01\n",
        "# Sentiment Analysis on Bengali Text\n",
        "---\n",
        "\n",
        "\n",
        "```\n",
        "Dataset : https://github.com/Ayubur/bangla-sentiment-analysis-datasets\n",
        "```\n",
        "\n",
        "\n"
      ],
      "metadata": {
        "id": "9e8YdkgyuM4V"
      }
    },
    {
      "cell_type": "code",
      "source": [
        "from google.colab import drive\n",
        "drive.mount('/content/drive')"
      ],
      "metadata": {
        "colab": {
          "base_uri": "https://localhost:8080/"
        },
        "id": "OfLT_y39iJMI",
        "outputId": "0138abfd-fffd-4777-fea3-fe1f6e806d3f"
      },
      "execution_count": null,
      "outputs": [
        {
          "output_type": "stream",
          "name": "stdout",
          "text": [
            "Mounted at /content/drive\n"
          ]
        }
      ]
    },
    {
      "cell_type": "code",
      "execution_count": null,
      "metadata": {
        "id": "UKBhLBKrrblg"
      },
      "outputs": [],
      "source": [
        "import pandas as pd\n",
        "import regex as re\n",
        "#from bnlp import BasicTokenizer\n",
        "#from bangla_stemmer.stemmer import stemmer\n",
        "import re\n",
        "from sklearn.feature_extraction.text import TfidfVectorizer\n",
        "from sklearn.feature_extraction.text import CountVectorizer\n",
        "from sklearn.model_selection import train_test_split\n",
        "from sklearn.preprocessing import LabelEncoder\n",
        "#!pip install bnlp_toolkit\n",
        "#pip install bangla-stemmer"
      ]
    },
    {
      "cell_type": "code",
      "source": [
        "#from google.colab import drive\n",
        "#drive.mount('/content/drive/')"
      ],
      "metadata": {
        "id": "yTes0VKrtQAd"
      },
      "execution_count": null,
      "outputs": []
    },
    {
      "cell_type": "code",
      "source": [
        "file_path1 = '/content/drive/MyDrive/Colab Notebooks/bangla-sentiment-analysis-datasets/Dataset/BanglaSentimentAnalysisData/comments/CommentsOutputFileEkattorTV.xlsx'\n",
        "#file_path2 = '/content/drive/MyDrive/Colab Notebooks/bangla-sentiment-analysis-datasets/Dataset/BanglaSentimentAnalysisData/comments/CommentsOutputImranHSarker.xlsx'\n",
        "\n",
        "df = pd.read_excel(file_path1)\n",
        "#df2 = pd.read_excel(file_path2)\n",
        "#df = pd.concat([df1, df2], axis=0, ignore_index=True)\n",
        "\n",
        "new_column_names = ['Index', 'text', 'emotion']\n",
        "df. columns = new_column_names\n",
        "\n",
        "# Display the first few rows of the dataframe\n",
        "#print(df.head(15))\n",
        "#df = df.drop(index=[0,1,2,3,4,5,6,7,3659,3660,3661,3662,3663,3664,3665,3666])\n",
        "df = df.drop(index=[0,1,2,3,4,5,6,7])\n",
        "df = df.dropna()  # Drop rows with any missing values\n",
        "df.reset_index(drop=True, inplace=True)  # Reset the index\n",
        "# Generate sequential integers starting from 1\n",
        "df['Index'] = range(1, len(df) + 1)\n",
        "\n",
        "# Display the DataFrame after replacing the values in the \"number\" column\n",
        "print(df)"
      ],
      "metadata": {
        "id": "cSLwt_GQrfTQ",
        "colab": {
          "base_uri": "https://localhost:8080/"
        },
        "outputId": "b65568cb-e8e2-4d99-a24b-4f8d2211247a"
      },
      "execution_count": null,
      "outputs": [
        {
          "output_type": "stream",
          "name": "stdout",
          "text": [
            "      Index                                               text emotion\n",
            "0         1  বরাবর, মাননীয় প্রধানমন্ত্রী গণপ্রজাতন্ত্রী বা...     sad\n",
            "1         2  তদন্ত করে লাভ কী ? কোন দিন কোন তদন্তের পর কিছু...     sad\n",
            "2         3  দেশকি মধ্যম আয়ের দেশে রুপান্তর হচ্ছে নাকি মগের...   angry\n",
            "3         4  আমি গর্বিত আমি মুসলিম। আমি সংগ্রামী। আমি যোদ্ধ...   happy\n",
            "4         5                        রাতের বেলা আবার কিসের সকাল।   angry\n",
            "...     ...                                                ...     ...\n",
            "1016   1017                                                ভাল   happy\n",
            "1017   1018                           জয় হউক মানবতার..........   happy\n",
            "1018   1019                    চোখের পানি ধরে রাখতে পারলাম না!     sad\n",
            "1019   1020  ব্রেকিং নিউজ, সবার জন্য দারুন খবর, http://bkas...   happy\n",
            "1020   1021  সুখবর সুখবর সুখবর আমরা যাদের কে #বাংলা ১ম এবং ...   happy\n",
            "\n",
            "[1021 rows x 3 columns]\n"
          ]
        }
      ]
    },
    {
      "cell_type": "markdown",
      "source": [
        "# Data Cleaning\n",
        "---\n",
        "Removed\n",
        "\n",
        "1.   Punctuations\n",
        "2.   English Alphabets\n",
        "3.   Unnecessary Symbols\n",
        "\n",
        "\n"
      ],
      "metadata": {
        "id": "PF_4rxvV6SCN"
      }
    },
    {
      "cell_type": "code",
      "source": [
        "import regex as re\n",
        "def clean_text(text):\n",
        "    # Define a regex pattern to match Bengali Unicode characters\n",
        "    bengali_pattern = re.compile('[\\p{Bengali}\\s]+', re.UNICODE)\n",
        "\n",
        "    # Extract only Bengali words from the text\n",
        "    cleaned_text = ' '.join(re.findall(bengali_pattern, text))\n",
        "\n",
        "    return cleaned_text\n",
        "\n",
        "# Apply the clean_text function to the 'text' column of your DataFrame\n",
        "df['cleaned_text'] = df['text'].apply(clean_text)\n",
        "\n",
        "# Display the cleaned DataFrame\n",
        "print(df.head(20))"
      ],
      "metadata": {
        "id": "6nzo6MDO5VUD",
        "colab": {
          "base_uri": "https://localhost:8080/"
        },
        "outputId": "298a5174-2bf1-484c-c4a4-c31964035825"
      },
      "execution_count": null,
      "outputs": [
        {
          "output_type": "stream",
          "name": "stdout",
          "text": [
            "    Index                                               text  emotion  \\\n",
            "0       1  বরাবর, মাননীয় প্রধানমন্ত্রী গণপ্রজাতন্ত্রী বা...      sad   \n",
            "1       2  তদন্ত করে লাভ কী ? কোন দিন কোন তদন্তের পর কিছু...      sad   \n",
            "2       3  দেশকি মধ্যম আয়ের দেশে রুপান্তর হচ্ছে নাকি মগের...    angry   \n",
            "3       4  আমি গর্বিত আমি মুসলিম। আমি সংগ্রামী। আমি যোদ্ধ...    happy   \n",
            "4       5                        রাতের বেলা আবার কিসের সকাল।    angry   \n",
            "5       6  মনে রাকবেন এই বেহাইয়াপনাতে মা ও বোনদের সসম্মান...      sad   \n",
            "6       7  কবে যানি ভূকম্পনে এ রমনা বটমূল মাটির সাথে মিশে...  disgust   \n",
            "7       8                                নাস্তিকরা কমতেছে তো    angry   \n",
            "8       9  এবার লোকসমাগম খুব কম হয়েছে যা প্রশ্নই থেকে যায়...  surpise   \n",
            "9      10                         কেয়ামতের  তোমাদের ছায়া নট।      sad   \n",
            "10     11                     কেয়ামতের মাঠে তোমাদের ছাড়া নট।     fear   \n",
            "11     12  বাংলাদেশের নদীর ওপর ভারতীয় আগ্রাসনের বিরুদ্ধে ...    angry   \n",
            "12     13  শফিক রেহমান এক জন পীর...............।। হা হহা ...  disgust   \n",
            "13     14                                           নষ্টামি,  disgust   \n",
            "14     15                           মরলেবুজবে ছাইয়ানঠকাকেবলে    angry   \n",
            "15     16                     কালো টাকা দিয়া সবকিছু কড়া জায়া  surpise   \n",
            "16     17                           ভন্ডামী শালীরা। অমুসলিম।    angry   \n",
            "17     18  তাইতো সদা ব্যাস্ত প্রাচীন ধর্মের প্রসারে। মঙ্গ...     fear   \n",
            "18     19  ১৯৮৬ সালে চারুপীঠ নামের একটি প্রতিষ্ঠান যশোরে ...    happy   \n",
            "19     20  ঢাকা নয়, যশোরে প্রথম হয়েছিল মঙ্গল শোভাযাত্রা h...  surpise   \n",
            "\n",
            "                                         cleaned_text  \n",
            "0   বরাবর  মাননীয় প্রধানমন্ত্রী গণপ্রজাতন্ত্রী বা...  \n",
            "1   তদন্ত করে লাভ কী   কোন দিন কোন তদন্তের পর কিছু...  \n",
            "2   দেশকি মধ্যম আয়ের দেশে রুপান্তর হচ্ছে নাকি মগের...  \n",
            "3   আমি গর্বিত আমি মুসলিম  আমি সংগ্রামী  আমি যোদ্ধ...  \n",
            "4                          রাতের বেলা আবার কিসের সকাল  \n",
            "5   মনে রাকবেন এই বেহাইয়াপনাতে মা ও বোনদের সসম্মান...  \n",
            "6   কবে যানি ভূকম্পনে এ রমনা বটমূল মাটির সাথে মিশে...  \n",
            "7                                 নাস্তিকরা কমতেছে তো  \n",
            "8   এবার লোকসমাগম খুব কম হয়েছে যা প্রশ্নই থেকে যায়...  \n",
            "9                           কেয়ামতের  তোমাদের ছায়া নট  \n",
            "10                      কেয়ামতের মাঠে তোমাদের ছাড়া নট  \n",
            "11  বাংলাদেশের নদীর ওপর ভারতীয় আগ্রাসনের বিরুদ্ধে ...  \n",
            "12                 শফিক রেহমান এক জন পীর  হা হহা হহহা  \n",
            "13                                            নষ্টামি  \n",
            "14                           মরলেবুজবে ছাইয়ানঠকাকেবলে  \n",
            "15                     কালো টাকা দিয়া সবকিছু কড়া জায়া  \n",
            "16                            ভন্ডামী শালীরা  অমুসলিম  \n",
            "17  তাইতো সদা ব্যাস্ত প্রাচীন ধর্মের প্রসারে  মঙ্গ...  \n",
            "18  ১৯৮৬ সালে চারুপীঠ নামের একটি প্রতিষ্ঠান যশোরে ...  \n",
            "19      ঢাকা নয়  যশোরে প্রথম হয়েছিল মঙ্গল শোভাযাত্রা   \n"
          ]
        }
      ]
    },
    {
      "cell_type": "markdown",
      "source": [
        "# Tokenization\n",
        "---\n",
        "Tokenization is the process of breaking a stream of text up into sentences, words, phrases, symbols, or other meaningful elements called tokens.\n",
        "\n",
        "**From BNLP Toolkit**"
      ],
      "metadata": {
        "id": "v9xXwaVn_3vo"
      }
    },
    {
      "cell_type": "code",
      "source": [
        "# Initialize the tokenizer\n",
        "tokenizer = BasicTokenizer()\n",
        "\n",
        "# Tokenize the text in the 'text' column of your DataFrame\n",
        "df['tokens'] = df['cleaned_text'].apply(tokenizer.tokenize)\n",
        "\n",
        "# Display the DataFrame with the tokenized text\n",
        "print(df.head())"
      ],
      "metadata": {
        "id": "wQC5BfSN-bOt",
        "colab": {
          "base_uri": "https://localhost:8080/"
        },
        "outputId": "ff2b972d-76a7-4aee-f548-656c34b2a418"
      },
      "execution_count": null,
      "outputs": [
        {
          "output_type": "stream",
          "name": "stdout",
          "text": [
            "   Index                                               text emotion  \\\n",
            "0      1  বরাবর, মাননীয় প্রধানমন্ত্রী গণপ্রজাতন্ত্রী বা...     sad   \n",
            "1      2  তদন্ত করে লাভ কী ? কোন দিন কোন তদন্তের পর কিছু...     sad   \n",
            "2      3  দেশকি মধ্যম আয়ের দেশে রুপান্তর হচ্ছে নাকি মগের...   angry   \n",
            "3      4  আমি গর্বিত আমি মুসলিম। আমি সংগ্রামী। আমি যোদ্ধ...   happy   \n",
            "4      5                        রাতের বেলা আবার কিসের সকাল।   angry   \n",
            "\n",
            "                                        cleaned_text  \\\n",
            "0  বরাবর  মাননীয় প্রধানমন্ত্রী গণপ্রজাতন্ত্রী বা...   \n",
            "1  তদন্ত করে লাভ কী   কোন দিন কোন তদন্তের পর কিছু...   \n",
            "2  দেশকি মধ্যম আয়ের দেশে রুপান্তর হচ্ছে নাকি মগের...   \n",
            "3  আমি গর্বিত আমি মুসলিম  আমি সংগ্রামী  আমি যোদ্ধ...   \n",
            "4                         রাতের বেলা আবার কিসের সকাল   \n",
            "\n",
            "                                              tokens  \n",
            "0  [বরাবর, মাননীয়, প্রধানমন্ত্রী, গণপ্রজাতন্ত্রী...  \n",
            "1  [তদন্ত, করে, লাভ, কী, কোন, দিন, কোন, তদন্তের, ...  \n",
            "2  [দেশকি, মধ্যম, আয়ের, দেশে, রুপান্তর, হচ্ছে, না...  \n",
            "3  [আমি, গর্বিত, আমি, মুসলিম, আমি, সংগ্রামী, আমি,...  \n",
            "4                   [রাতের, বেলা, আবার, কিসের, সকাল]  \n"
          ]
        }
      ]
    },
    {
      "cell_type": "markdown",
      "source": [
        "# Stop Words Removal\n",
        "\n",
        "\n",
        "---\n",
        "Removed words are from Stopword-Bn.txt file in the Dataset\n",
        "\n",
        "\n",
        "\n",
        "\n",
        "\n",
        "\n",
        "\n",
        "\n"
      ],
      "metadata": {
        "id": "-WijQGwABlyg"
      }
    },
    {
      "cell_type": "code",
      "source": [
        "# Read stopwords from the .txt file\n",
        "stopwords_file_path = '/content/drive/MyDrive/Colab Notebooks/bangla-sentiment-analysis-datasets/Stopwords/stopwords-bn.txt'\n",
        "with open(stopwords_file_path, 'r', encoding='utf-8') as file:\n",
        "    custom_stopwords = [word.strip() for word in file.readlines()]\n",
        "\n",
        "# Function to remove stopwords from a list of tokens\n",
        "def remove_stopwords(tokens):\n",
        "    # Filter out custom stopwords\n",
        "    filtered_tokens = [token for token in tokens if token not in custom_stopwords]\n",
        "    return filtered_tokens\n",
        "\n",
        "# Apply the remove_stopwords function to the 'tokens' column of your DataFrame\n",
        "df['tokens_without_stopwords'] = df['tokens'].apply(remove_stopwords)\n",
        "\n",
        "# Display the DataFrame with the tokenized text and stopwords removed\n",
        "print(df.head())\n"
      ],
      "metadata": {
        "id": "GFYIcJ62BTXf",
        "colab": {
          "base_uri": "https://localhost:8080/"
        },
        "outputId": "b60bd052-2f14-4206-feb9-fc05d8197aea"
      },
      "execution_count": null,
      "outputs": [
        {
          "output_type": "stream",
          "name": "stdout",
          "text": [
            "   Index                                               text emotion  \\\n",
            "0      1  বরাবর, মাননীয় প্রধানমন্ত্রী গণপ্রজাতন্ত্রী বা...     sad   \n",
            "1      2  তদন্ত করে লাভ কী ? কোন দিন কোন তদন্তের পর কিছু...     sad   \n",
            "2      3  দেশকি মধ্যম আয়ের দেশে রুপান্তর হচ্ছে নাকি মগের...   angry   \n",
            "3      4  আমি গর্বিত আমি মুসলিম। আমি সংগ্রামী। আমি যোদ্ধ...   happy   \n",
            "4      5                        রাতের বেলা আবার কিসের সকাল।   angry   \n",
            "\n",
            "                                        cleaned_text  \\\n",
            "0  বরাবর  মাননীয় প্রধানমন্ত্রী গণপ্রজাতন্ত্রী বা...   \n",
            "1  তদন্ত করে লাভ কী   কোন দিন কোন তদন্তের পর কিছু...   \n",
            "2  দেশকি মধ্যম আয়ের দেশে রুপান্তর হচ্ছে নাকি মগের...   \n",
            "3  আমি গর্বিত আমি মুসলিম  আমি সংগ্রামী  আমি যোদ্ধ...   \n",
            "4                         রাতের বেলা আবার কিসের সকাল   \n",
            "\n",
            "                                              tokens  \\\n",
            "0  [বরাবর, মাননীয়, প্রধানমন্ত্রী, গণপ্রজাতন্ত্রী...   \n",
            "1  [তদন্ত, করে, লাভ, কী, কোন, দিন, কোন, তদন্তের, ...   \n",
            "2  [দেশকি, মধ্যম, আয়ের, দেশে, রুপান্তর, হচ্ছে, না...   \n",
            "3  [আমি, গর্বিত, আমি, মুসলিম, আমি, সংগ্রামী, আমি,...   \n",
            "4                   [রাতের, বেলা, আবার, কিসের, সকাল]   \n",
            "\n",
            "                            tokens_without_stopwords  \n",
            "0  [বরাবর, মাননীয়, প্রধানমন্ত্রী, গণপ্রজাতন্ত্রী...  \n",
            "1  [তদন্ত, লাভ, তদন্তের, হয়েছে, মন, রাজনৈতিক, শক্...  \n",
            "2  [দেশকি, মধ্যম, আয়ের, দেশে, রুপান্তর, মগের, মুল...  \n",
            "3  [গর্বিত, মুসলিম, সংগ্রামী, যোদ্ধা, চির, রণবীর,...  \n",
            "4                         [রাতের, বেলা, কিসের, সকাল]  \n"
          ]
        }
      ]
    },
    {
      "cell_type": "markdown",
      "source": [
        "# Normalization - Stemming\n",
        "---\n",
        "**Stemming** = heuristically removing the affixes of a word, to get its stem (root)\n",
        "```\n",
        "# from bangla_stemmer.stemmer import stemmer\n",
        "```"
      ],
      "metadata": {
        "id": "j1PIg7asF6wS"
      }
    },
    {
      "cell_type": "code",
      "source": [
        "#pip install bangla-stemmer\n",
        "from bangla_stemmer.stemmer import stemmer"
      ],
      "metadata": {
        "id": "KNLkllEWyDID"
      },
      "execution_count": null,
      "outputs": []
    },
    {
      "cell_type": "code",
      "source": [
        "# Initialize the stemmer\n",
        "stem = stemmer.BanglaStemmer()\n",
        "\n",
        "# Function to perform stemming on a list of tokens\n",
        "def stem_tokens(tokens):\n",
        "    # Stem each token\n",
        "    stemmed_tokens = [stem.stem(token) for token in tokens]\n",
        "    return stemmed_tokens\n",
        "\n",
        "# Apply the stem_tokens function to the 'tokens_without_stopwords' column of your DataFrame\n",
        "df['normalized_tokens'] = df['tokens_without_stopwords'].apply(stem_tokens)\n",
        "\n",
        "# Display the DataFrame with the normalized tokens\n",
        "print(df.head())"
      ],
      "metadata": {
        "id": "mIIdz0JuDrz0"
      },
      "execution_count": null,
      "outputs": []
    },
    {
      "cell_type": "markdown",
      "source": [
        "# Word Embedding\n",
        "---\n",
        "All texts need to be converted to numbers before starts processing by the machine. Specifically, vectors of numbers.\n",
        "\n",
        "1.   TF-IDF : Term Frequency-Inverse Document Frequency\n",
        "2.   BoW : Bag of Words\n",
        "\n",
        "\n",
        "\n"
      ],
      "metadata": {
        "id": "2wUd4CcJwCsS"
      }
    },
    {
      "cell_type": "code",
      "source": [
        "# Combine tokens back into documents\n",
        "corpus = [' '.join(tokens) for tokens in df['normalized_tokens']]\n",
        "\n",
        "tfidf_vectorizer = TfidfVectorizer()\n",
        "tfidf = tfidf_vectorizer.fit_transform(corpus).toarray()\n",
        "\n",
        "# Print TF-IDF vectors\n",
        "print(\"TF-IDF Vectors:\")\n",
        "print(tfidf)\n",
        "\n",
        "# Sort vocabulary and print terms with TF-IDF values\n",
        "#dictionary = sorted(tfidf_vectorizer.vocabulary_)"
      ],
      "metadata": {
        "colab": {
          "base_uri": "https://localhost:8080/"
        },
        "id": "54eY4CaCJ6fh",
        "outputId": "1f455da2-74a0-42ba-d5d2-2a2ee06efeca"
      },
      "execution_count": null,
      "outputs": [
        {
          "output_type": "stream",
          "name": "stdout",
          "text": [
            "TF-IDF Vectors:\n",
            "[[0.        0.        0.0465348 ... 0.        0.        0.       ]\n",
            " [0.        0.        0.        ... 0.        0.        0.       ]\n",
            " [0.        0.        0.        ... 0.        0.        0.       ]\n",
            " ...\n",
            " [0.        0.        0.        ... 0.        0.        0.       ]\n",
            " [0.        0.        0.        ... 0.        0.        0.       ]\n",
            " [0.        0.        0.        ... 0.        0.        0.       ]]\n"
          ]
        }
      ]
    },
    {
      "cell_type": "code",
      "source": [
        "# Combine tokens back into documents\n",
        "corpus = [' '.join(tokens) for tokens in df['normalized_tokens']]\n",
        "\n",
        "# Initialize the CountVectorizer\n",
        "count_vectorizer = CountVectorizer()\n",
        "\n",
        "# Convert documents to Bag-of-Words representation\n",
        "bow = count_vectorizer.fit_transform(corpus).toarray()\n",
        "\n",
        "# Print BoW vectors\n",
        "print(\"Bag-of-Words (BoW) Vectors:\")\n",
        "print(bow)\n",
        "\n",
        "# Sort vocabulary and print terms with BoW values\n",
        "#dictionary = sorted(count_vectorizer.vocabulary_)"
      ],
      "metadata": {
        "colab": {
          "base_uri": "https://localhost:8080/"
        },
        "id": "rpaylifc1xnA",
        "outputId": "be8e8be9-94ec-4c87-9300-15a788f693e9"
      },
      "execution_count": null,
      "outputs": [
        {
          "output_type": "stream",
          "name": "stdout",
          "text": [
            "Bag-of-Words (BoW) Vectors:\n",
            "[[0 0 1 ... 0 0 0]\n",
            " [0 0 0 ... 0 0 0]\n",
            " [0 0 0 ... 0 0 0]\n",
            " ...\n",
            " [0 0 0 ... 0 0 0]\n",
            " [0 0 0 ... 0 0 0]\n",
            " [0 0 0 ... 0 0 0]]\n"
          ]
        }
      ]
    },
    {
      "cell_type": "markdown",
      "source": [
        "# Label Encoding & Data Split\n",
        "---\n",
        "\n"
      ],
      "metadata": {
        "id": "2zc1UDq2xI3F"
      }
    },
    {
      "cell_type": "code",
      "source": [
        "labels = df['emotion']\n",
        "\n",
        "# Encode the labels using LabelEncoder\n",
        "label_encoder = LabelEncoder()\n",
        "encoded_labels = label_encoder.fit_transform(labels)\n",
        "print(encoded_labels)\n",
        "\n",
        "# Split the dataset into training and testing sets (90% train, 10% test)\n",
        "#X_train, X_test, y_train, y_test = train_test_split(tfidf, encoded_labels, test_size=0.1, random_state=42)\n",
        "X_train, X_test, y_train, y_test = train_test_split(tfidf, encoded_labels, test_size=0.1, random_state=42)\n",
        "\n",
        "# Print the shapes of the training and testing sets\n",
        "print(\"X_train shape:\", X_train.shape)\n",
        "print(\"X_test shape:\", X_test.shape)\n",
        "print(\"y_train shape:\", y_train.shape)\n",
        "print(\"y_test shape:\", y_test.shape)"
      ],
      "metadata": {
        "colab": {
          "base_uri": "https://localhost:8080/"
        },
        "id": "YH92SB3tiYef",
        "outputId": "b9947d74-b21b-4ddd-f7f9-31fb3798b1ed"
      },
      "execution_count": null,
      "outputs": [
        {
          "output_type": "stream",
          "name": "stdout",
          "text": [
            "[4 4 0 ... 4 3 3]\n",
            "X_train shape: (918, 1249)\n",
            "X_test shape: (103, 1249)\n",
            "y_train shape: (918,)\n",
            "y_test shape: (103,)\n"
          ]
        }
      ]
    },
    {
      "cell_type": "markdown",
      "source": [
        "# **Logistic Regression**\n",
        "---\n",
        "\n"
      ],
      "metadata": {
        "id": "r6LYnomhxqBq"
      }
    },
    {
      "cell_type": "code",
      "source": [
        "from sklearn.linear_model import LogisticRegression\n",
        "from sklearn.metrics import accuracy_score, precision_score, recall_score\n",
        "\n",
        "# Instantiate and train the logistic regression model\n",
        "logistic_regression_model = LogisticRegression(max_iter=1000)\n",
        "logistic_regression_model.fit(X_train, y_train)\n",
        "\n",
        "# Predict the labels for the test set\n",
        "y_pred = logistic_regression_model.predict(X_test)\n",
        "\n",
        "# Calculate the accuracy of the model\n",
        "accuracy = accuracy_score(y_test, y_pred)\n",
        "\n",
        "# Calculate precision and recall\n",
        "precision = precision_score(y_test, y_pred, average='weighted')\n",
        "recall = recall_score(y_test, y_pred, average='weighted')\n",
        "\n",
        "print(\"Accuracy:\", accuracy)\n",
        "print(\"Precision:\", precision)\n",
        "print(\"Recall:\", recall)"
      ],
      "metadata": {
        "colab": {
          "base_uri": "https://localhost:8080/"
        },
        "id": "0vH349bqYEV9",
        "outputId": "62b25018-8709-48a1-ff95-f76dd699d48e"
      },
      "execution_count": null,
      "outputs": [
        {
          "output_type": "stream",
          "name": "stdout",
          "text": [
            "Accuracy: 0.42718446601941745\n",
            "Precision: 0.36670222980902595\n",
            "Recall: 0.42718446601941745\n"
          ]
        }
      ]
    },
    {
      "cell_type": "markdown",
      "source": [
        "# **CNN**\n",
        "---\n",
        "\n"
      ],
      "metadata": {
        "id": "QQNmfVdAxwgy"
      }
    },
    {
      "cell_type": "code",
      "source": [
        "import numpy as np\n",
        "from tensorflow.keras.models import Sequential\n",
        "from tensorflow.keras.layers import Dense, Conv1D, GlobalMaxPooling1D, Dropout\n",
        "from sklearn.preprocessing import LabelBinarizer\n",
        "precision_score, recall_score\n",
        "# Convert labels to one-hot encoding\n",
        "label_binarizer = LabelBinarizer()\n",
        "y_train_encoded = label_binarizer.fit_transform(y_train)\n",
        "y_test_encoded = label_binarizer.transform(y_test)\n",
        "\n",
        "# Reshape TF-IDF/boW vectors for input into Conv1D layer\n",
        "X_train_reshaped = np.expand_dims(X_train, axis=2)\n",
        "X_test_reshaped = np.expand_dims(X_test, axis=2)\n",
        "\n",
        "# Define the CNN model\n",
        "model = Sequential()\n",
        "model.add(Conv1D(128, 3, activation='relu', input_shape=(X_train.shape[1], 1)))\n",
        "\n",
        "model.add(GlobalMaxPooling1D())\n",
        "model.add(Dense(64, activation='relu'))\n",
        "model.add(Dropout(0.2))\n",
        "model.add(Dense(len(label_binarizer.classes_), activation='softmax'))\n",
        "\n",
        "\n",
        "model.summary()\n",
        "# Compile the model\n",
        "model.compile(loss='categorical_crossentropy', optimizer='adam', metrics=[['accuracy']])\n",
        "\n",
        "# Train the model\n",
        "cnn = model.fit(X_train_reshaped, y_train_encoded, epochs=10, batch_size=32, validation_data=(X_test_reshaped, y_test_encoded))\n",
        "\n",
        "\n",
        "# Evaluate the model\n",
        "loss, accuracy = model.evaluate(X_test_reshaped, y_test_encoded)\n",
        "print(\"Test Loss:\", loss)\n",
        "print(\"Test Accuracy:\", accuracy)"
      ],
      "metadata": {
        "colab": {
          "base_uri": "https://localhost:8080/"
        },
        "id": "GfqzPu4Oi9v9",
        "outputId": "6a3aa11a-9e9b-42fa-b331-aeef9633031e"
      },
      "execution_count": null,
      "outputs": [
        {
          "output_type": "stream",
          "name": "stdout",
          "text": [
            "Model: \"sequential\"\n",
            "_________________________________________________________________\n",
            " Layer (type)                Output Shape              Param #   \n",
            "=================================================================\n",
            " conv1d (Conv1D)             (None, 1247, 128)         512       \n",
            "                                                                 \n",
            " global_max_pooling1d (Glob  (None, 128)               0         \n",
            " alMaxPooling1D)                                                 \n",
            "                                                                 \n",
            " dense (Dense)               (None, 64)                8256      \n",
            "                                                                 \n",
            " dropout (Dropout)           (None, 64)                0         \n",
            "                                                                 \n",
            " dense_1 (Dense)             (None, 6)                 390       \n",
            "                                                                 \n",
            "=================================================================\n",
            "Total params: 9158 (35.77 KB)\n",
            "Trainable params: 9158 (35.77 KB)\n",
            "Non-trainable params: 0 (0.00 Byte)\n",
            "_________________________________________________________________\n",
            "Epoch 1/10\n",
            "29/29 [==============================] - 3s 68ms/step - loss: 1.7462 - accuracy: 0.2277 - val_loss: 1.7576 - val_accuracy: 0.1650\n",
            "Epoch 2/10\n",
            "29/29 [==============================] - 2s 64ms/step - loss: 1.6950 - accuracy: 0.2636 - val_loss: 1.7548 - val_accuracy: 0.2816\n",
            "Epoch 3/10\n",
            "29/29 [==============================] - 2s 73ms/step - loss: 1.6912 - accuracy: 0.2702 - val_loss: 1.7545 - val_accuracy: 0.2816\n",
            "Epoch 4/10\n",
            "29/29 [==============================] - 2s 74ms/step - loss: 1.6999 - accuracy: 0.2821 - val_loss: 1.7562 - val_accuracy: 0.2816\n",
            "Epoch 5/10\n",
            "29/29 [==============================] - 2s 57ms/step - loss: 1.6894 - accuracy: 0.2593 - val_loss: 1.7578 - val_accuracy: 0.2816\n",
            "Epoch 6/10\n",
            "29/29 [==============================] - 1s 51ms/step - loss: 1.6897 - accuracy: 0.2571 - val_loss: 1.7629 - val_accuracy: 0.2816\n",
            "Epoch 7/10\n",
            "29/29 [==============================] - 1s 51ms/step - loss: 1.6847 - accuracy: 0.2887 - val_loss: 1.7561 - val_accuracy: 0.2816\n",
            "Epoch 8/10\n",
            "29/29 [==============================] - 2s 53ms/step - loss: 1.6882 - accuracy: 0.2789 - val_loss: 1.7595 - val_accuracy: 0.2816\n",
            "Epoch 9/10\n",
            "29/29 [==============================] - 1s 50ms/step - loss: 1.6825 - accuracy: 0.2647 - val_loss: 1.7578 - val_accuracy: 0.2816\n",
            "Epoch 10/10\n",
            "29/29 [==============================] - 2s 52ms/step - loss: 1.6840 - accuracy: 0.2691 - val_loss: 1.7599 - val_accuracy: 0.2816\n",
            "4/4 [==============================] - 0s 16ms/step - loss: 1.7599 - accuracy: 0.2816\n",
            "Test Loss: 1.7599365711212158\n",
            "Test Accuracy: 0.28155338764190674\n"
          ]
        }
      ]
    },
    {
      "cell_type": "markdown",
      "source": [
        "# **RNN**\n",
        "---\n",
        "\n"
      ],
      "metadata": {
        "id": "pVvyoWyYymCD"
      }
    },
    {
      "cell_type": "code",
      "source": [
        "from tensorflow.keras.models import Sequential\n",
        "from tensorflow.keras.layers import Dense, SimpleRNN, Embedding, GlobalMaxPooling1D, Dropout\n",
        "\n",
        "# Define the RNN model\n",
        "rnn_model = Sequential()\n",
        "rnn_model.add(SimpleRNN(128, input_shape=(X_train.shape[1], 1), activation='relu'))\n",
        "#rnn_model.add(Dense(64, activation='relu'))\n",
        "rnn_model.add(Dropout(0.2))\n",
        "rnn_model.add(Dense(len(label_binarizer.classes_), activation='softmax'))\n",
        "\n",
        "# Compile the model\n",
        "rnn_model.compile(loss='categorical_crossentropy', optimizer='adam', metrics=['accuracy'])\n",
        "\n",
        "# Train the model\n",
        "rnn = rnn_model.fit(X_train_reshaped, y_train_encoded, epochs=10, batch_size=32, validation_data=(X_test_reshaped, y_test_encoded))\n",
        "\n",
        "# Evaluate the model\n",
        "rnn_loss, rnn_accuracy = rnn_model.evaluate(X_test_reshaped, y_test_encoded)\n",
        "print(\"RNN Test Loss:\", rnn_loss)\n",
        "print(\"RNN Test Accuracy:\", rnn_accuracy)"
      ],
      "metadata": {
        "colab": {
          "base_uri": "https://localhost:8080/"
        },
        "id": "VcKPHpvnqYJ5",
        "outputId": "fd9b188a-18c0-4247-93cf-f53a3d99905b"
      },
      "execution_count": null,
      "outputs": [
        {
          "output_type": "stream",
          "name": "stdout",
          "text": [
            "Epoch 1/10\n",
            "29/29 [==============================] - 9s 279ms/step - loss: 2.2750 - accuracy: 0.2876 - val_loss: 1.7710 - val_accuracy: 0.2816\n",
            "Epoch 2/10\n",
            "29/29 [==============================] - 11s 389ms/step - loss: 1.7623 - accuracy: 0.2789 - val_loss: 1.7674 - val_accuracy: 0.2816\n",
            "Epoch 3/10\n",
            "29/29 [==============================] - 9s 327ms/step - loss: 1.7246 - accuracy: 0.2745 - val_loss: 1.7471 - val_accuracy: 0.2816\n",
            "Epoch 4/10\n",
            "29/29 [==============================] - 9s 294ms/step - loss: 1.7047 - accuracy: 0.2723 - val_loss: 1.7621 - val_accuracy: 0.2816\n",
            "Epoch 5/10\n",
            "29/29 [==============================] - 11s 379ms/step - loss: 1.6944 - accuracy: 0.2789 - val_loss: 1.7437 - val_accuracy: 0.2816\n",
            "Epoch 6/10\n",
            "29/29 [==============================] - 8s 263ms/step - loss: 1.6925 - accuracy: 0.2680 - val_loss: 1.7527 - val_accuracy: 0.2816\n",
            "Epoch 7/10\n",
            "29/29 [==============================] - 10s 364ms/step - loss: 1.6894 - accuracy: 0.2800 - val_loss: 1.7436 - val_accuracy: 0.2816\n",
            "Epoch 8/10\n",
            "29/29 [==============================] - 10s 331ms/step - loss: 1.6900 - accuracy: 0.2767 - val_loss: 1.7423 - val_accuracy: 0.2816\n",
            "Epoch 9/10\n",
            "29/29 [==============================] - 8s 284ms/step - loss: 1.6902 - accuracy: 0.2756 - val_loss: 1.7439 - val_accuracy: 0.2816\n",
            "Epoch 10/10\n",
            "29/29 [==============================] - 11s 367ms/step - loss: 1.6905 - accuracy: 0.2821 - val_loss: 1.7395 - val_accuracy: 0.2816\n",
            "4/4 [==============================] - 0s 93ms/step - loss: 1.7395 - accuracy: 0.2816\n",
            "RNN Test Loss: 1.7394517660140991\n",
            "RNN Test Accuracy: 0.28155338764190674\n"
          ]
        }
      ]
    },
    {
      "cell_type": "markdown",
      "source": [
        "# **LSTM**\n",
        "---\n",
        "\n"
      ],
      "metadata": {
        "id": "fR1dhN77ys4y"
      }
    },
    {
      "cell_type": "code",
      "source": [
        "from tensorflow.keras.layers import LSTM\n",
        "\n",
        "# Define the LSTM model\n",
        "lstm_model = Sequential()\n",
        "lstm_model.add(LSTM(128, input_shape=(X_train.shape[1], 1), activation='relu'))\n",
        "#lstm_model.add(Dense(64, activation='relu'))\n",
        "lstm_model.add(Dropout(0.2))\n",
        "lstm_model.add(Dense(len(label_binarizer.classes_), activation='softmax'))\n",
        "\n",
        "# Compile the model\n",
        "lstm_model.compile(loss='categorical_crossentropy', optimizer='adam', metrics=['accuracy'])\n",
        "\n",
        "# Train the model\n",
        "lstm = lstm_model.fit(X_train_reshaped, y_train_encoded, epochs=10, batch_size=32, validation_data=(X_test_reshaped, y_test_encoded))\n",
        "\n",
        "# Evaluate the model\n",
        "lstm_loss, lstm_accuracy = lstm_model.evaluate(X_test_reshaped, y_test_encoded)\n",
        "print(\"LSTM Test Loss:\", lstm_loss)\n",
        "print(\"LSTM Test Accuracy:\", lstm_accuracy)"
      ],
      "metadata": {
        "colab": {
          "base_uri": "https://localhost:8080/"
        },
        "id": "XHB4j7AdqdFS",
        "outputId": "a6a9d92e-ed00-4745-9df9-e1068bcf64f9"
      },
      "execution_count": null,
      "outputs": [
        {
          "output_type": "stream",
          "name": "stdout",
          "text": [
            "Epoch 1/10\n",
            "29/29 [==============================] - 50s 2s/step - loss: nan - accuracy: 0.2854 - val_loss: nan - val_accuracy: 0.1650\n",
            "Epoch 2/10\n",
            "29/29 [==============================] - 49s 2s/step - loss: nan - accuracy: 0.2462 - val_loss: nan - val_accuracy: 0.1650\n",
            "Epoch 3/10\n",
            "29/29 [==============================] - 48s 2s/step - loss: nan - accuracy: 0.2462 - val_loss: nan - val_accuracy: 0.1650\n",
            "Epoch 4/10\n",
            "29/29 [==============================] - 48s 2s/step - loss: nan - accuracy: 0.2462 - val_loss: nan - val_accuracy: 0.1650\n",
            "Epoch 5/10\n",
            "29/29 [==============================] - 48s 2s/step - loss: nan - accuracy: 0.2462 - val_loss: nan - val_accuracy: 0.1650\n",
            "Epoch 6/10\n",
            "29/29 [==============================] - 53s 2s/step - loss: nan - accuracy: 0.2462 - val_loss: nan - val_accuracy: 0.1650\n",
            "Epoch 7/10\n",
            "29/29 [==============================] - 47s 2s/step - loss: nan - accuracy: 0.2462 - val_loss: nan - val_accuracy: 0.1650\n",
            "Epoch 8/10\n",
            "29/29 [==============================] - 48s 2s/step - loss: nan - accuracy: 0.2462 - val_loss: nan - val_accuracy: 0.1650\n",
            "Epoch 9/10\n",
            "29/29 [==============================] - 47s 2s/step - loss: nan - accuracy: 0.2462 - val_loss: nan - val_accuracy: 0.1650\n",
            "Epoch 10/10\n",
            "29/29 [==============================] - 46s 2s/step - loss: nan - accuracy: 0.2462 - val_loss: nan - val_accuracy: 0.1650\n",
            "4/4 [==============================] - 2s 369ms/step - loss: nan - accuracy: 0.1650\n",
            "LSTM Test Loss: nan\n",
            "LSTM Test Accuracy: 0.1650485396385193\n"
          ]
        }
      ]
    },
    {
      "cell_type": "code",
      "source": [
        "import matplotlib.pyplot as plt\n",
        "\n",
        "# Plot accuracy curves for RNN, LSTM, and CNN models\n",
        "plt.plot(rnn.history['accuracy'], label='RNN Accuracy')\n",
        "plt.plot(lstm.history['accuracy'], label='LSTM Accuracy')\n",
        "plt.plot(cnn.history['accuracy'], label='CNN Accuracy')\n",
        "plt.title('Model Accuracy')\n",
        "plt.xlabel('Epoch')\n",
        "plt.ylabel('Accuracy')\n",
        "plt.legend()\n",
        "plt.show()"
      ],
      "metadata": {
        "colab": {
          "base_uri": "https://localhost:8080/",
          "height": 472
        },
        "id": "ZNNGdJY8zTeZ",
        "outputId": "385b5d9b-b9b1-43f7-a831-c47cd8dbfd07"
      },
      "execution_count": null,
      "outputs": [
        {
          "output_type": "display_data",
          "data": {
            "text/plain": [
              "<Figure size 640x480 with 1 Axes>"
            ],
            "image/png": "[encoded data removed]"
          },
          "metadata": {}
        }
      ]
    }
  ]
}